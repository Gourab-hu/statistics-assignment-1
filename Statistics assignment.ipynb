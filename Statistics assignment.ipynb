{
 "cells": [
  {
   "cell_type": "code",
   "execution_count": 2,
   "id": "06c6660e-b0d8-4331-8437-9c0b165059cb",
   "metadata": {},
   "outputs": [
    {
     "data": {
      "text/plain": [
       "'\\nStatistics is the science of collecting, analyzing, interpreting, presenting, and organizing data.\\nIt helps make informed decisions based on data and is used in almost every field such as business,\\nhealthcare, government, and research.\\n'"
      ]
     },
     "execution_count": 2,
     "metadata": {},
     "output_type": "execute_result"
    }
   ],
   "source": [
    "# 1. What is statistics, and why is it important\n",
    "\"\"\"\n",
    "Statistics is the science of collecting, analyzing, interpreting, presenting, and organizing data.\n",
    "It helps make informed decisions based on data and is used in almost every field such as business,\n",
    "healthcare, government, and research.\n",
    "\"\"\""
   ]
  },
  {
   "cell_type": "code",
   "execution_count": 6,
   "id": "a906eab0-6e0f-4339-b1b1-eefcde2145d3",
   "metadata": {},
   "outputs": [
    {
     "data": {
      "text/plain": [
       "'\\nDescriptive Statistics and Inferential Statistics.\\n'"
      ]
     },
     "execution_count": 6,
     "metadata": {},
     "output_type": "execute_result"
    }
   ],
   "source": [
    "# 2. What are the two main types of statistics\n",
    "\"\"\"\n",
    "Descriptive Statistics and Inferential Statistics.\n",
    "\"\"\"\n"
   ]
  },
  {
   "cell_type": "code",
   "execution_count": 8,
   "id": "f223f193-283e-453f-a4ca-1f03e4850bbe",
   "metadata": {},
   "outputs": [
    {
     "data": {
      "text/plain": [
       "'\\nDescriptive statistics summarize and organize data using measures like mean, median, mode,\\nstandard deviation, and visual tools like graphs and charts.\\n'"
      ]
     },
     "execution_count": 8,
     "metadata": {},
     "output_type": "execute_result"
    }
   ],
   "source": [
    "# 3. What are descriptive statistics\n",
    "\"\"\"\n",
    "Descriptive statistics summarize and organize data using measures like mean, median, mode,\n",
    "standard deviation, and visual tools like graphs and charts.\n",
    "\"\"\""
   ]
  },
  {
   "cell_type": "code",
   "execution_count": 10,
   "id": "e107923e-e978-4367-a136-c8b3554c6be4",
   "metadata": {},
   "outputs": [
    {
     "data": {
      "text/plain": [
       "'\\nInferential statistics make predictions or inferences about a population based on a sample of data.\\nIt uses probability theory to draw conclusions.\\n'"
      ]
     },
     "execution_count": 10,
     "metadata": {},
     "output_type": "execute_result"
    }
   ],
   "source": [
    "# 4. What is inferential statistics\n",
    "\"\"\"\n",
    "Inferential statistics make predictions or inferences about a population based on a sample of data.\n",
    "It uses probability theory to draw conclusions.\n",
    "\"\"\"\n"
   ]
  },
  {
   "cell_type": "code",
   "execution_count": 12,
   "id": "b23a99f7-a4fa-4b29-8e2a-5b5a952e003d",
   "metadata": {},
   "outputs": [
    {
     "data": {
      "text/plain": [
       "'\\nSampling is the process of selecting a subset of individuals from a population to estimate characteristics of the whole population.\\n'"
      ]
     },
     "execution_count": 12,
     "metadata": {},
     "output_type": "execute_result"
    }
   ],
   "source": [
    "# 5. What is sampling in statistics\n",
    "\"\"\"\n",
    "Sampling is the process of selecting a subset of individuals from a population to estimate characteristics of the whole population.\n",
    "\"\"\""
   ]
  },
  {
   "cell_type": "code",
   "execution_count": 14,
   "id": "a9e6e9b2-f476-47a2-9577-b09a9f5903ff",
   "metadata": {},
   "outputs": [
    {
     "data": {
      "text/plain": [
       "'\\nSimple Random Sampling, Stratified Sampling, Systematic Sampling, Cluster Sampling, and Convenience Sampling.\\n'"
      ]
     },
     "execution_count": 14,
     "metadata": {},
     "output_type": "execute_result"
    }
   ],
   "source": [
    "# 6. What are the different types of sampling methods\n",
    "\"\"\"\n",
    "Simple Random Sampling, Stratified Sampling, Systematic Sampling, Cluster Sampling, and Convenience Sampling.\n",
    "\"\"\""
   ]
  },
  {
   "cell_type": "code",
   "execution_count": 16,
   "id": "0f87a23a-26e8-439c-b75f-54859b358997",
   "metadata": {},
   "outputs": [
    {
     "data": {
      "text/plain": [
       "'\\nRandom sampling gives every member of the population an equal chance of being selected.\\nNon-random sampling does not; it may use judgment or convenience.\\n'"
      ]
     },
     "execution_count": 16,
     "metadata": {},
     "output_type": "execute_result"
    }
   ],
   "source": [
    "# 7. What is the difference between random and non-random sampling\n",
    "\"\"\"\n",
    "Random sampling gives every member of the population an equal chance of being selected.\n",
    "Non-random sampling does not; it may use judgment or convenience.\n",
    "\"\"\""
   ]
  },
  {
   "cell_type": "code",
   "execution_count": 18,
   "id": "23d44c12-b290-4806-8acc-35d5bf4648b1",
   "metadata": {},
   "outputs": [
    {
     "data": {
      "text/plain": [
       "'\\nQualitative data: Categorical data (e.g., colors, gender, nationality).\\nQuantitative data: Numerical data (e.g., age, height, weight).\\n'"
      ]
     },
     "execution_count": 18,
     "metadata": {},
     "output_type": "execute_result"
    }
   ],
   "source": [
    "# 8. Define and give examples of qualitative and quantitative data\n",
    "\"\"\"\n",
    "Qualitative data: Categorical data (e.g., colors, gender, nationality).\n",
    "Quantitative data: Numerical data (e.g., age, height, weight).\n",
    "\"\"\""
   ]
  },
  {
   "cell_type": "code",
   "execution_count": 20,
   "id": "101f7eee-3e9f-47a4-9cc8-b969ae68458c",
   "metadata": {},
   "outputs": [
    {
     "data": {
      "text/plain": [
       "'\\nQualitative (categorical) and Quantitative (numerical) data.\\n'"
      ]
     },
     "execution_count": 20,
     "metadata": {},
     "output_type": "execute_result"
    }
   ],
   "source": [
    "# 9. What are the different types of data in statistics\n",
    "\"\"\"\n",
    "Qualitative (categorical) and Quantitative (numerical) data.\n",
    "\"\"\""
   ]
  },
  {
   "cell_type": "code",
   "execution_count": 22,
   "id": "94f5e252-5531-4df5-8413-8363c2e7c287",
   "metadata": {},
   "outputs": [
    {
     "data": {
      "text/plain": [
       "'\\nNominal: Categories without order (e.g., gender).\\nOrdinal: Categories with order (e.g., ranking).\\nInterval: Numerical data without a true zero (e.g., temperature in Celsius).\\nRatio: Numerical data with a true zero (e.g., weight, height).\\n'"
      ]
     },
     "execution_count": 22,
     "metadata": {},
     "output_type": "execute_result"
    }
   ],
   "source": [
    "# 10. Explain nominal, ordinal, interval, and ratio levels of measurement\n",
    "\"\"\"\n",
    "Nominal: Categories without order (e.g., gender).\n",
    "Ordinal: Categories with order (e.g., ranking).\n",
    "Interval: Numerical data without a true zero (e.g., temperature in Celsius).\n",
    "Ratio: Numerical data with a true zero (e.g., weight, height).\n",
    "\"\"\""
   ]
  },
  {
   "cell_type": "code",
   "execution_count": 24,
   "id": "95380c68-73fc-4085-97e3-827d86027a33",
   "metadata": {},
   "outputs": [
    {
     "data": {
      "text/plain": [
       "'\\nIt is a single value that represents the center point of a dataset (mean, median, mode).\\n'"
      ]
     },
     "execution_count": 24,
     "metadata": {},
     "output_type": "execute_result"
    }
   ],
   "source": [
    "# 11. What is the measure of central tendency\n",
    "\"\"\"\n",
    "It is a single value that represents the center point of a dataset (mean, median, mode).\n",
    "\"\"\""
   ]
  },
  {
   "cell_type": "code",
   "execution_count": 26,
   "id": "18ca67a8-d478-4fed-862d-31323127f4e1",
   "metadata": {},
   "outputs": [
    {
     "data": {
      "text/plain": [
       "'\\nMean: Average value.\\nMedian: Middle value.\\nMode: Most frequent value.\\n'"
      ]
     },
     "execution_count": 26,
     "metadata": {},
     "output_type": "execute_result"
    }
   ],
   "source": [
    "\n",
    "# 12. Define mean, median, and mode\n",
    "\"\"\"\n",
    "Mean: Average value.\n",
    "Median: Middle value.\n",
    "Mode: Most frequent value.\n",
    "\"\"\"\n"
   ]
  },
  {
   "cell_type": "code",
   "execution_count": 28,
   "id": "c97ae2e0-0a0a-4950-af7f-683f1d9e9388",
   "metadata": {},
   "outputs": [
    {
     "data": {
      "text/plain": [
       "'\\nIt summarizes large data into a single representative value, making data easier to understand.\\n'"
      ]
     },
     "execution_count": 28,
     "metadata": {},
     "output_type": "execute_result"
    }
   ],
   "source": [
    "# 13. What is the significance of the measure of central tendency\n",
    "\"\"\"\n",
    "It summarizes large data into a single representative value, making data easier to understand.\n",
    "\"\"\""
   ]
  },
  {
   "cell_type": "code",
   "execution_count": 30,
   "id": "10ff7297-a8af-4e50-bf11-7db232a78802",
   "metadata": {},
   "outputs": [
    {
     "data": {
      "text/plain": [
       "'\\nVariance measures how far each number in a dataset is from the mean.\\nFormula: sum of squared deviations from mean divided by number of observations.\\n'"
      ]
     },
     "execution_count": 30,
     "metadata": {},
     "output_type": "execute_result"
    }
   ],
   "source": [
    "# 14. What is variance, and how is it calculated\n",
    "\"\"\"\n",
    "Variance measures how far each number in a dataset is from the mean.\n",
    "Formula: sum of squared deviations from mean divided by number of observations.\n",
    "\"\"\""
   ]
  },
  {
   "cell_type": "code",
   "execution_count": 32,
   "id": "952edaaa-9a93-4975-a09e-54d9286496be",
   "metadata": {},
   "outputs": [
    {
     "data": {
      "text/plain": [
       "'\\nStandard deviation is the square root of variance. It shows how spread out the data is.\\nLower standard deviation means data is close to the mean.\\n'"
      ]
     },
     "execution_count": 32,
     "metadata": {},
     "output_type": "execute_result"
    }
   ],
   "source": [
    "# 15. What is standard deviation, and why is it important\n",
    "\"\"\"\n",
    "Standard deviation is the square root of variance. It shows how spread out the data is.\n",
    "Lower standard deviation means data is close to the mean.\n",
    "\"\"\""
   ]
  },
  {
   "cell_type": "code",
   "execution_count": 34,
   "id": "e395d106-ecc7-45eb-8b19-580f92aa440f",
   "metadata": {},
   "outputs": [
    {
     "data": {
      "text/plain": [
       "'\\nRange is the difference between the maximum and minimum values in a dataset.\\n'"
      ]
     },
     "execution_count": 34,
     "metadata": {},
     "output_type": "execute_result"
    }
   ],
   "source": [
    "\n",
    "# 16. Define and explain the term range in statistics\n",
    "\"\"\"\n",
    "Range is the difference between the maximum and minimum values in a dataset.\n",
    "\"\"\""
   ]
  },
  {
   "cell_type": "code",
   "execution_count": 36,
   "id": "58278fb8-8099-4649-a0a9-f7e158590a36",
   "metadata": {},
   "outputs": [
    {
     "data": {
      "text/plain": [
       "'\\nVariance is in squared units; standard deviation is the square root of variance and in original units.\\n'"
      ]
     },
     "execution_count": 36,
     "metadata": {},
     "output_type": "execute_result"
    }
   ],
   "source": [
    "# 17. What is the difference between variance and standard deviation\n",
    "\"\"\"\n",
    "Variance is in squared units; standard deviation is the square root of variance and in original units.\n",
    "\"\"\""
   ]
  },
  {
   "cell_type": "code",
   "execution_count": 38,
   "id": "521c0a45-de07-4a5b-af40-1c0ea6f2cb50",
   "metadata": {},
   "outputs": [
    {
     "data": {
      "text/plain": [
       "'\\nSkewness measures the asymmetry of the data distribution.\\n'"
      ]
     },
     "execution_count": 38,
     "metadata": {},
     "output_type": "execute_result"
    }
   ],
   "source": [
    "# 18. What is skewness in a dataset\n",
    "\"\"\"\n",
    "Skewness measures the asymmetry of the data distribution.\n",
    "\"\"\"\n"
   ]
  },
  {
   "cell_type": "code",
   "execution_count": 40,
   "id": "eb7c1b9c-693b-492f-8471-09a6ca524515",
   "metadata": {},
   "outputs": [
    {
     "data": {
      "text/plain": [
       "'\\nPositively skewed: tail on the right, mean > median.\\nNegatively skewed: tail on the left, mean < median.\\n'"
      ]
     },
     "execution_count": 40,
     "metadata": {},
     "output_type": "execute_result"
    }
   ],
   "source": [
    "\n",
    "# 19. What does it mean if a dataset is positively or negatively skewed\n",
    "\"\"\"\n",
    "Positively skewed: tail on the right, mean > median.\n",
    "Negatively skewed: tail on the left, mean < median.\n",
    "\"\"\"\n"
   ]
  },
  {
   "cell_type": "code",
   "execution_count": 42,
   "id": "30269056-7d8f-49ae-b1ce-5bfe6f0c6d87",
   "metadata": {},
   "outputs": [
    {
     "data": {
      "text/plain": [
       "'\\nKurtosis measures the \"tailedness\" of the distribution.\\nHigh kurtosis: more outliers.\\nLow kurtosis: less outliers.\\n'"
      ]
     },
     "execution_count": 42,
     "metadata": {},
     "output_type": "execute_result"
    }
   ],
   "source": [
    "# 20. Define and explain kurtosis\n",
    "\"\"\"\n",
    "Kurtosis measures the \"tailedness\" of the distribution.\n",
    "High kurtosis: more outliers.\n",
    "Low kurtosis: less outliers.\n",
    "\"\"\"\n"
   ]
  },
  {
   "cell_type": "code",
   "execution_count": 44,
   "id": "a3aed863-402c-4647-bd1c-c457426d82f7",
   "metadata": {},
   "outputs": [
    {
     "data": {
      "text/plain": [
       "'\\nCovariance measures how two variables change together.\\n'"
      ]
     },
     "execution_count": 44,
     "metadata": {},
     "output_type": "execute_result"
    }
   ],
   "source": [
    "# 21. What is the purpose of covariance\n",
    "\"\"\"\n",
    "Covariance measures how two variables change together.\n",
    "\"\"\""
   ]
  },
  {
   "cell_type": "code",
   "execution_count": 46,
   "id": "e61310b8-88aa-4773-976c-6b80fccec2af",
   "metadata": {},
   "outputs": [
    {
     "data": {
      "text/plain": [
       "'\\nCorrelation measures the strength and direction of a linear relationship between two variables.\\n'"
      ]
     },
     "execution_count": 46,
     "metadata": {},
     "output_type": "execute_result"
    }
   ],
   "source": [
    "\n",
    "# 22. What does correlation measure in statistics\n",
    "\"\"\"\n",
    "Correlation measures the strength and direction of a linear relationship between two variables.\n",
    "\"\"\""
   ]
  },
  {
   "cell_type": "code",
   "execution_count": 48,
   "id": "65f2d433-946d-4576-83ee-dde0efb304c4",
   "metadata": {},
   "outputs": [
    {
     "data": {
      "text/plain": [
       "'\\nCovariance shows direction only, correlation standardizes covariance to show strength and direction.\\n'"
      ]
     },
     "execution_count": 48,
     "metadata": {},
     "output_type": "execute_result"
    }
   ],
   "source": [
    "\n",
    "# 23. What is the difference between covariance and correlation\n",
    "\"\"\"\n",
    "Covariance shows direction only, correlation standardizes covariance to show strength and direction.\n",
    "\"\"\""
   ]
  },
  {
   "cell_type": "code",
   "execution_count": 50,
   "id": "6a2c669e-e352-4fc3-af0c-1d79a55344e9",
   "metadata": {},
   "outputs": [
    {
     "data": {
      "text/plain": [
       "'\\nForecasting, market research, quality control, medical studies, policy making, sports analytics, etc.\\n'"
      ]
     },
     "execution_count": 50,
     "metadata": {},
     "output_type": "execute_result"
    }
   ],
   "source": [
    "# 24. What are some real-world applications of statistics?\n",
    "\"\"\"\n",
    "Forecasting, market research, quality control, medical studies, policy making, sports analytics, etc.\n",
    "\"\"\"\n"
   ]
  },
  {
   "cell_type": "code",
   "execution_count": 54,
   "id": "1f5ebfda-2190-4b2a-a96d-15342feadc17",
   "metadata": {},
   "outputs": [
    {
     "name": "stdout",
     "output_type": "stream",
     "text": [
      "Mean: 3.875\n",
      "Median: 4.5\n",
      "Mode: ModeResult(mode=5, count=3)\n"
     ]
    }
   ],
   "source": [
    "# 25. How do you calculate the mean, median, and mode of a dataset\n",
    "import numpy as np\n",
    "from scipy import stats\n",
    "\n",
    "data = [1, 2, 3, 4, 5, 5, 5, 6]\n",
    "print(\"Mean:\", np.mean(data))\n",
    "print(\"Median:\", np.median(data))\n",
    "print(\"Mode:\", stats.mode(data))\n"
   ]
  },
  {
   "cell_type": "code",
   "execution_count": 56,
   "id": "4bc4e3dc-d2fa-49f9-ba7c-f3721b2181a3",
   "metadata": {},
   "outputs": [
    {
     "name": "stdout",
     "output_type": "stream",
     "text": [
      "Variance: 2.609375\n",
      "Standard Deviation: 1.6153559979150107\n"
     ]
    }
   ],
   "source": [
    "# 26. Write a Python program to compute the variance and standard deviation of a dataset\n",
    "print(\"Variance:\", np.var(data))\n",
    "print(\"Standard Deviation:\", np.std(data))\n"
   ]
  },
  {
   "cell_type": "code",
   "execution_count": 58,
   "id": "4733cb53-b116-4c9c-a852-7413844192d6",
   "metadata": {},
   "outputs": [
    {
     "data": {
      "text/plain": [
       "'\\nNominal: [\"Red\", \"Blue\", \"Green\"]\\nOrdinal: [\"Small\", \"Medium\", \"Large\"]\\nInterval: Temperatures [30, 40, 50]\\nRatio: Heights [150, 160, 170]\\n'"
      ]
     },
     "execution_count": 58,
     "metadata": {},
     "output_type": "execute_result"
    }
   ],
   "source": [
    "# 27. Create a dataset and classify it into nominal, ordinal, interval, and ratio types\n",
    "\"\"\"\n",
    "Nominal: [\"Red\", \"Blue\", \"Green\"]\n",
    "Ordinal: [\"Small\", \"Medium\", \"Large\"]\n",
    "Interval: Temperatures [30, 40, 50]\n",
    "Ratio: Heights [150, 160, 170]\n",
    "\"\"\""
   ]
  },
  {
   "cell_type": "code",
   "execution_count": 62,
   "id": "a2f31d40-0309-4eec-8cba-83097d380e21",
   "metadata": {},
   "outputs": [
    {
     "name": "stdout",
     "output_type": "stream",
     "text": [
      "Random Sample:\n",
      "    ID\n",
      "90  91\n",
      "82  83\n",
      "49  50\n",
      "93  94\n",
      "78  79\n",
      "9   10\n",
      "34  35\n",
      "95  96\n",
      "94  95\n",
      "75  76\n",
      "Stratified Sample:\n",
      "    ID Group\n",
      "90  91     A\n",
      "60  61     B\n",
      "67  68     A\n",
      "92  93     B\n",
      "28  29     B\n",
      "94  95     B\n",
      "32  33     A\n",
      "65  66     A\n",
      "45  46     A\n",
      "56  57     B\n"
     ]
    }
   ],
   "source": [
    "# 28. Implement sampling techniques like random sampling and stratified sampling\n",
    "import pandas as pd\n",
    "from sklearn.model_selection import train_test_split\n",
    "\n",
    "# Random Sampling\n",
    "df = pd.DataFrame({'ID': range(1, 101)})\n",
    "sample = df.sample(n=10)\n",
    "print(\"Random Sample:\")\n",
    "print(sample)\n",
    "\n",
    "# Stratified Sampling\n",
    "from sklearn.model_selection import StratifiedShuffleSplit\n",
    "import numpy as np\n",
    "df['Group'] = np.random.choice(['A', 'B'], size=100)\n",
    "split = StratifiedShuffleSplit(n_splits=1, test_size=10)\n",
    "for train_index, test_index in split.split(df, df['Group']):\n",
    "    stratified_sample = df.loc[test_index]\n",
    "print(\"Stratified Sample:\")\n",
    "print(stratified_sample)"
   ]
  },
  {
   "cell_type": "code",
   "execution_count": 70,
   "id": "9b5832da-74f4-439a-a414-02c8322b08e3",
   "metadata": {},
   "outputs": [
    {
     "data": {
      "text/plain": [
       "5"
      ]
     },
     "execution_count": 70,
     "metadata": {},
     "output_type": "execute_result"
    }
   ],
   "source": [
    "# 29. Write a Python function to calculate the range of a dataset\n",
    "max(data) - min(data)\n"
   ]
  },
  {
   "cell_type": "code",
   "execution_count": 72,
   "id": "2986e0c6-4e6f-4170-9804-dc8414f51781",
   "metadata": {},
   "outputs": [
    {
     "data": {
      "image/png": "[encoded data removed]",
      "text/plain": [
       "<Figure size 640x480 with 1 Axes>"
      ]
     },
     "metadata": {},
     "output_type": "display_data"
    }
   ],
   "source": [
    "# 30. Create a dataset and plot its histogram to visualize skewness\n",
    "import matplotlib.pyplot as plt\n",
    "\n",
    "plt.hist(data, bins=5)\n",
    "plt.title('Histogram')\n",
    "plt.show()"
   ]
  },
  {
   "cell_type": "code",
   "execution_count": 74,
   "id": "a403b4bc-415f-42fa-aaf4-aeaaa9edb646",
   "metadata": {},
   "outputs": [
    {
     "name": "stdout",
     "output_type": "stream",
     "text": [
      "Skewness: -0.5087771912110672\n",
      "Kurtosis: -1.045501810749758\n"
     ]
    }
   ],
   "source": [
    "# 31. Calculate skewness and kurtosis of a dataset using Python libraries\n",
    "print(\"Skewness:\", stats.skew(data))\n",
    "print(\"Kurtosis:\", stats.kurtosis(data))\n"
   ]
  },
  {
   "cell_type": "code",
   "execution_count": 76,
   "id": "6b571d5c-ce46-4abd-8704-cfd1efc4ea2e",
   "metadata": {},
   "outputs": [
    {
     "name": "stdout",
     "output_type": "stream",
     "text": [
      "Positive Skewness: 1.418505623226429\n",
      "Negative Skewness: -1.2939423257140454\n"
     ]
    }
   ],
   "source": [
    "\n",
    "# 32. Generate a dataset and demonstrate positive and negative skewness\n",
    "pos_skew = [1, 2, 2, 3, 4, 10]\n",
    "neg_skew = [1, 8, 8, 9, 10]\n",
    "print(\"Positive Skewness:\", stats.skew(pos_skew))\n",
    "print(\"Negative Skewness:\", stats.skew(neg_skew))\n"
   ]
  },
  {
   "cell_type": "code",
   "execution_count": 78,
   "id": "2b1f644d-3130-42d5-81f4-4b31502ad14c",
   "metadata": {},
   "outputs": [
    {
     "name": "stdout",
     "output_type": "stream",
     "text": [
      "Covariance: 6.666666666666666\n"
     ]
    }
   ],
   "source": [
    "\n",
    "# 33. Write a Python script to calculate covariance between two datasets\n",
    "x = [2, 4, 6, 8]\n",
    "y = [1, 3, 5, 7]\n",
    "print(\"Covariance:\", np.cov(x, y)[0][1])\n"
   ]
  },
  {
   "cell_type": "code",
   "execution_count": 80,
   "id": "2fdb88cb-83cd-4ca0-8ad3-f86861a7774c",
   "metadata": {},
   "outputs": [
    {
     "name": "stdout",
     "output_type": "stream",
     "text": [
      "Correlation Coefficient: 1.0\n"
     ]
    }
   ],
   "source": [
    "\n",
    "# 34. Write a Python script to calculate the correlation coefficient between two datasets\n",
    "print(\"Correlation Coefficient:\", np.corrcoef(x, y)[0][1])"
   ]
  },
  {
   "cell_type": "code",
   "execution_count": 82,
   "id": "cad32a7d-c585-4904-a442-cd3f247c5577",
   "metadata": {},
   "outputs": [
    {
     "data": {
      "image/png": "[encoded data removed]",
      "text/plain": [
       "<Figure size 640x480 with 1 Axes>"
      ]
     },
     "metadata": {},
     "output_type": "display_data"
    }
   ],
   "source": [
    "# 35. Create a scatter plot to visualize the relationship between two variables\n",
    "plt.scatter(x, y)\n",
    "plt.title('Scatter Plot')\n",
    "plt.xlabel('X')\n",
    "plt.ylabel('Y')\n",
    "plt.show()"
   ]
  },
  {
   "cell_type": "code",
   "execution_count": 86,
   "id": "aae14c4f-93bc-4de9-bfa0-bd8ebe771d2a",
   "metadata": {},
   "outputs": [
    {
     "name": "stdout",
     "output_type": "stream",
     "text": [
      "Random Sample:\n",
      "    ID\n",
      "23  24\n",
      "29  30\n",
      "7    8\n",
      "61  62\n",
      "56  57\n",
      "38  39\n",
      "46  47\n",
      "96  97\n",
      "13  14\n",
      "89  90\n",
      "Systematic Sample:\n",
      "    ID\n",
      "0    1\n",
      "10  11\n",
      "20  21\n",
      "30  31\n",
      "40  41\n",
      "50  51\n",
      "60  61\n",
      "70  71\n",
      "80  81\n",
      "90  91\n"
     ]
    }
   ],
   "source": [
    "# 36. Implement and compare simple random sampling and systematic sampling\n",
    "df = pd.DataFrame({'ID': range(1, 101)})\n",
    "sample = df.sample(n=10)\n",
    "print(\"Random Sample:\")\n",
    "print(sample)\n",
    "systematic_sample = df.iloc[::10]\n",
    "print(\"Systematic Sample:\")\n",
    "print(systematic_sample)\n"
   ]
  },
  {
   "cell_type": "code",
   "execution_count": 88,
   "id": "e1375c20-c72d-45ba-89c4-a24522833b9c",
   "metadata": {},
   "outputs": [
    {
     "data": {
      "text/plain": [
       "'\\nGrouped data needs frequency table, here we illustrate conceptually.\\n'"
      ]
     },
     "execution_count": 88,
     "metadata": {},
     "output_type": "execute_result"
    }
   ],
   "source": [
    "# 37. Calculate the mean, median, and mode of grouped data\n",
    "\"\"\"\n",
    "Grouped data needs frequency table, here we illustrate conceptually.\n",
    "\"\"\"\n"
   ]
  },
  {
   "cell_type": "code",
   "execution_count": 98,
   "id": "9aa50c27-bb7c-4a6f-8a82-9bc8b8879403",
   "metadata": {},
   "outputs": [
    {
     "name": "stdout",
     "output_type": "stream",
     "text": [
      "Simulated Mean: 50.10558355199961\n",
      "Simulated Std Dev: 9.403535792400502\n"
     ]
    }
   ],
   "source": [
    "# 38. Simulate data using Python and calculate its central tendency and dispersion\n",
    "sim_data = np.random.normal(50, 10, 100)\n",
    "print(\"Simulated Mean:\", np.mean(sim_data))\n",
    "print(\"Simulated Std Dev:\", np.std(sim_data))"
   ]
  },
  {
   "cell_type": "code",
   "execution_count": 103,
   "id": "727c569e-5575-4fc3-97e2-023135b8cdbd",
   "metadata": {},
   "outputs": [
    {
     "name": "stdout",
     "output_type": "stream",
     "text": [
      "count    100.000000\n",
      "mean      50.105584\n",
      "std        9.450909\n",
      "min       21.142248\n",
      "25%       45.477381\n",
      "50%       50.046851\n",
      "75%       55.416622\n",
      "max       77.474776\n",
      "dtype: float64\n"
     ]
    }
   ],
   "source": [
    "#39. Use NumPy or pandas to summarize a dataset’s descriptive statistics\n",
    "print(pd.Series(sim_data).describe())\n"
   ]
  },
  {
   "cell_type": "code",
   "execution_count": 105,
   "id": "e899b233-5199-4e77-bc5d-0183946bb17f",
   "metadata": {},
   "outputs": [
    {
     "data": {
      "image/png": "[encoded data removed]",
      "text/plain": [
       "<Figure size 640x480 with 1 Axes>"
      ]
     },
     "metadata": {},
     "output_type": "display_data"
    }
   ],
   "source": [
    "# 40. Plot a boxplot to understand the spread and identify outliers\n",
    "plt.boxplot(sim_data)\n",
    "plt.title('Boxplot')\n",
    "plt.show()\n"
   ]
  },
  {
   "cell_type": "code",
   "execution_count": 107,
   "id": "3ad05fcc-4dcc-49c3-8462-e8b8b4d329ff",
   "metadata": {},
   "outputs": [
    {
     "name": "stdout",
     "output_type": "stream",
     "text": [
      "IQR: 9.93924115894918\n"
     ]
    }
   ],
   "source": [
    "# 41. Calculate the interquartile range (IQR) of a dataset\n",
    "q75, q25 = np.percentile(sim_data, [75, 25])\n",
    "print(\"IQR:\", q75 - q25)\n"
   ]
  },
  {
   "cell_type": "code",
   "execution_count": 109,
   "id": "3680e957-1183-4b8a-b1b8-471ee2e28583",
   "metadata": {},
   "outputs": [
    {
     "name": "stdout",
     "output_type": "stream",
     "text": [
      "Z-Scores: [-0.39973155 -0.34752519  0.82421715 -0.50663646  0.31554724]\n"
     ]
    }
   ],
   "source": [
    "# 42. Implement Z-score normalization and explain its significance\n",
    "z_scores = (sim_data - np.mean(sim_data)) / np.std(sim_data)\n",
    "print(\"Z-Scores:\", z_scores[:5])\n"
   ]
  },
  {
   "cell_type": "code",
   "execution_count": 111,
   "id": "6596488e-6e41-4bfb-be88-3a06f41e43e2",
   "metadata": {},
   "outputs": [
    {
     "name": "stdout",
     "output_type": "stream",
     "text": [
      "Std Dev Set1: 5.579272010024519\n",
      "Std Dev Set2: 14.904879423219763\n"
     ]
    }
   ],
   "source": [
    "# 43. Compare two datasets using their standard deviations\n",
    "set1 = np.random.normal(50, 5, 100)\n",
    "set2 = np.random.normal(50, 15, 100)\n",
    "print(\"Std Dev Set1:\", np.std(set1))\n",
    "print(\"Std Dev Set2:\", np.std(set2))\n"
   ]
  },
  {
   "cell_type": "code",
   "execution_count": 115,
   "id": "2ae40773-dc59-4315-b979-4d45a882ba46",
   "metadata": {},
   "outputs": [
    {
     "data": {
      "image/png": "[encoded data removed]",
      "text/plain": [
       "<Figure size 640x480 with 2 Axes>"
      ]
     },
     "metadata": {},
     "output_type": "display_data"
    }
   ],
   "source": [
    "# 44. Write a Python program to visualize covariance using a heatmap\n",
    "import seaborn as sns\n",
    "\n",
    "cov_matrix = np.cov([set1, set2])\n",
    "sns.heatmap(cov_matrix, annot=True)\n",
    "plt.title('Covariance Heatmap')\n",
    "plt.show()"
   ]
  },
  {
   "cell_type": "code",
   "execution_count": 117,
   "id": "2e417848-a11b-4673-9387-ffe4ed7ba1e4",
   "metadata": {},
   "outputs": [
    {
     "data": {
      "image/png": "[encoded data removed]",
      "text/plain": [
       "<Figure size 640x480 with 2 Axes>"
      ]
     },
     "metadata": {},
     "output_type": "display_data"
    }
   ],
   "source": [
    "# 45. Use seaborn to create a correlation matrix for a dataset\n",
    "data = pd.DataFrame({'A': set1, 'B': set2})\n",
    "sns.heatmap(data.corr(), annot=True)\n",
    "plt.title('Correlation Matrix')\n",
    "plt.show()"
   ]
  },
  {
   "cell_type": "code",
   "execution_count": 119,
   "id": "1a3b8875-593e-45d6-b2f3-1412b22e0de5",
   "metadata": {},
   "outputs": [
    {
     "name": "stdout",
     "output_type": "stream",
     "text": [
      "Variance: 821.3936000000001\n",
      "Standard Deviation: 28.659965108143453\n"
     ]
    }
   ],
   "source": [
    "# 46. Generate a dataset and implement both variance and standard deviation computations\n",
    "rand_data = np.random.randint(1, 100, 50)\n",
    "print(\"Variance:\", np.var(rand_data))\n",
    "print(\"Standard Deviation:\", np.std(rand_data))\n"
   ]
  },
  {
   "cell_type": "code",
   "execution_count": 121,
   "id": "5fa6914c-70b6-4ab7-b425-e4ea23d363e7",
   "metadata": {},
   "outputs": [
    {
     "data": {
      "image/png": "[encoded data removed]",
      "text/plain": [
       "<Figure size 640x480 with 1 Axes>"
      ]
     },
     "metadata": {},
     "output_type": "display_data"
    },
    {
     "name": "stdout",
     "output_type": "stream",
     "text": [
      "Skewness: -0.24291014784653048\n",
      "Kurtosis: -1.0969006229190743\n"
     ]
    }
   ],
   "source": [
    "# 47. Visualize skewness and kurtosis using Python libraries like matplotlib or seaborn\n",
    "sns.histplot(rand_data, kde=True)\n",
    "plt.title('Distribution')\n",
    "plt.show()\n",
    "print(\"Skewness:\", stats.skew(rand_data))\n",
    "print(\"Kurtosis:\", stats.kurtosis(rand_data))"
   ]
  },
  {
   "cell_type": "code",
   "execution_count": 123,
   "id": "254abd34-9e3f-477e-a3ae-eb5340e6aec4",
   "metadata": {},
   "outputs": [
    {
     "name": "stdout",
     "output_type": "stream",
     "text": [
      "Pearson: PearsonRResult(statistic=0.13414855984439797, pvalue=0.1833065136820598)\n",
      "Spearman: SignificanceResult(statistic=0.08952895289528952, pvalue=0.3757176983036854)\n"
     ]
    }
   ],
   "source": [
    "# 48. Implement the Pearson and Spearman correlation coefficients for a dataset\n",
    "print(\"Pearson:\", stats.pearsonr(set1, set2))\n",
    "print(\"Spearman:\", stats.spearmanr(set1, set2))\n"
   ]
  },
  {
   "cell_type": "code",
   "execution_count": null,
   "id": "e32f5f76-0779-49bd-9e7a-047b1154be54",
   "metadata": {},
   "outputs": [],
   "source": []
  }
 ],
 "metadata": {
  "kernelspec": {
   "display_name": "Python [conda env:base] *",
   "language": "python",
   "name": "conda-base-py"
  },
  "language_info": {
   "codemirror_mode": {
    "name": "ipython",
    "version": 3
   },
   "file_extension": ".py",
   "mimetype": "text/x-python",
   "name": "python",
   "nbconvert_exporter": "python",
   "pygments_lexer": "ipython3",
   "version": "3.12.7"
  }
 },
 "nbformat": 4,
 "nbformat_minor": 5
}
